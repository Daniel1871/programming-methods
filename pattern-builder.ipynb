{
  "nbformat": 4,
  "nbformat_minor": 0,
  "metadata": {
    "colab": {
      "provenance": []
    },
    "kernelspec": {
      "name": "python3",
      "display_name": "Python 3"
    },
    "language_info": {
      "name": "python"
    }
  },
  "cells": [
    {
      "cell_type": "markdown",
      "source": [
        "Используя паттерн Builder, реализовать процесс создания объекта типа «Пицца» разных видов. Предполагается, что пиццу возможно сконструировать по частям: тесто (толстое, тонкое, закрытая), основная часть начинки (определяется типом пиццы), дополнительные добавки (острый перец, бекон, экстра сыр, томатный соус, грибы). По итогу запуска программы должен быть сформирован табличный файл (xlsx, csv) со всеми возможными вариантами пиццы."
      ],
      "metadata": {
        "id": "vNU8vH7bt58L"
      }
    },
    {
      "cell_type": "code",
      "source": [
        "class Pizza: # Product\n",
        "    def __init__(self):\n",
        "        self.name = \"Pizza margherita\" # по умолчанию\n",
        "        self.dough = \"Thick\"\n",
        "        self.cheeses = []\n",
        "        self.meats = []\n",
        "        self.standard_toppings = [] # стандартные топпинги\n",
        "        self.addit_toppings = [] # дополнительные топпинги, специфичные для разных пицц\n",
        "\n",
        "    def add_cheese(self, cheese):\n",
        "        self.cheeses.append(cheese)\n",
        "\n",
        "    def add_meat(self, meat):\n",
        "        self.meats.append(meat)\n",
        "\n",
        "    def add_standard_topping(self, topping):\n",
        "        self.standard_toppings.append(topping)\n",
        "\n",
        "    def add_addit_topping(self, topping):\n",
        "        self.addit_toppings.append(topping)\n",
        "\n",
        "    def get_info(self):\n",
        "        return [self.name, self.dough, ', '.join(self.cheeses), ', '.join(self.meats), ', '.join(self.standard_toppings), ', '.join(self.addit_toppings)]\n",
        "\n",
        "    def __str__(self):\n",
        "        return f\"{self.name}:\\n- Dough: {self.dough}\\n- Cheese: {', '.join(self.cheeses)}\\n- Meat: {', '.join(self.meats)}\\n- Standard toppings: {', '.join(self.standard_toppings)}\\n- Additional toppings: {', '.join(self.addit_toppings)}\""
      ],
      "metadata": {
        "id": "udROxzxa_6jA"
      },
      "execution_count": 1,
      "outputs": []
    },
    {
      "cell_type": "code",
      "source": [
        "from abc import ABC, abstractmethod\n",
        "class PizzaBuilder(ABC): # Builder\n",
        "    @abstractmethod\n",
        "    def reset(self):\n",
        "        pass\n",
        "\n",
        "    @abstractmethod\n",
        "    def get_pizza(self):\n",
        "        pass\n",
        "\n",
        "    @abstractmethod\n",
        "    def get_info(self):\n",
        "        pass\n",
        "\n",
        "    @abstractmethod\n",
        "    def set_dough(self, dough): # выбрать тесто\n",
        "        pass\n",
        "\n",
        "    @abstractmethod\n",
        "    def add_cheese(self):\n",
        "        pass\n",
        "\n",
        "    @abstractmethod\n",
        "    def add_meat(self):\n",
        "        pass\n",
        "\n",
        "    @abstractmethod\n",
        "    def add_topping(self, special_ingredients):\n",
        "        pass"
      ],
      "metadata": {
        "id": "PRaf_gh7_091"
      },
      "execution_count": 2,
      "outputs": []
    },
    {
      "cell_type": "code",
      "source": [
        "class MargheritaPizzaBuilder(PizzaBuilder): # Concrete Builder\n",
        "    def __init__(self):\n",
        "        self.pizza = Pizza()\n",
        "        self.pizza.name = \"Pizza margherita\"\n",
        "\n",
        "    def reset(self):\n",
        "        if self.pizza.cheeses:\n",
        "            self.pizza = Pizza()\n",
        "            self.pizza.name = \"Pizza margherita\"\n",
        "\n",
        "    def get_pizza(self):\n",
        "        return self.pizza\n",
        "\n",
        "    def get_info(self):\n",
        "        return self.pizza.get_info()\n",
        "\n",
        "    def set_dough(self, dough): # выбрать тесто\n",
        "        if dough in [\"Thick\", \"Thin\", \"Closed\"]:\n",
        "            self.pizza.dough = dough\n",
        "\n",
        "    def add_cheese(self):\n",
        "        self.pizza.add_cheese(\"Mozzarella cheese\")\n",
        "\n",
        "    def add_meat(self):\n",
        "        pass\n",
        "\n",
        "    def add_topping(self, special_ingredients):\n",
        "        self.pizza.add_standard_topping(\"Tomato sauce\")\n",
        "        self.pizza.add_standard_topping(\"Fresh basil leaves\")\n",
        "        self.pizza.add_standard_topping(\"Olive oil\")\n",
        "        self.pizza.add_standard_topping(\"Salt and pepper\")\n",
        "\n",
        "        for topping in (set(special_ingredients) & set([\"Hot pepper\", \"Bacon\", \"Extra mozarella cheese\",\n",
        "                                                        \"Extra tomato sauce\", \"Mushrooms\", \"Tomatoes\"])): # считаем, что доп. добавки специфичны для разных пицц\n",
        "            self.pizza.add_addit_topping(topping)"
      ],
      "metadata": {
        "id": "kgCiPdOfBvD-"
      },
      "execution_count": 3,
      "outputs": []
    },
    {
      "cell_type": "code",
      "source": [
        "class MeatPizzaBuilder(PizzaBuilder): # Concrete Builder\n",
        "    def __init__(self):\n",
        "        self.pizza = Pizza()\n",
        "        self.pizza.name = \"Meat pizza\"\n",
        "\n",
        "    def reset(self):\n",
        "        if self.pizza.cheeses:\n",
        "            self.pizza = Pizza()\n",
        "            self.pizza.name = \"Meat pizza\"\n",
        "\n",
        "    def get_pizza(self):\n",
        "        return self.pizza\n",
        "\n",
        "    def get_info(self):\n",
        "        return self.pizza.get_info()\n",
        "\n",
        "    def set_dough(self, dough): # выбрать тесто\n",
        "        if dough in [\"Thick\", \"Thin\", \"Closed\"]:\n",
        "            self.pizza.dough = dough\n",
        "\n",
        "    def add_cheese(self):\n",
        "         self.pizza.add_cheese(\"Mozzarella cheese\")\n",
        "\n",
        "    def add_meat(self):\n",
        "        self.pizza.add_meat(\"Pepperoni slices\")\n",
        "        self.pizza.add_meat(\"Sausage slices\")\n",
        "        self.pizza.add_meat(\"Ham slices\")\n",
        "\n",
        "    def add_topping(self, special_ingredients):\n",
        "        self.pizza.add_standard_topping(\"Tomato sauce\")\n",
        "        self.pizza.add_standard_topping(\"Bacon\")\n",
        "        self.pizza.add_standard_topping(\"Olive oil\")\n",
        "        self.pizza.add_standard_topping(\"Salt and pepper\")\n",
        "\n",
        "        for topping in (set(special_ingredients) & set([\"Hot pepper\", \"Extra bacon\", \"Extra mozarella cheese\", \"Extra tomato sauce\",\n",
        "                                                        \"Mushrooms\", \"Double pepperoni\", \"Extra ham\"])):\n",
        "            self.pizza.add_addit_topping(topping)"
      ],
      "metadata": {
        "id": "3T17c9Lvvetu"
      },
      "execution_count": 4,
      "outputs": []
    },
    {
      "cell_type": "code",
      "source": [
        "class FourCheesesPizzaBuilder(PizzaBuilder): # Concrete Builder\n",
        "    def __init__(self):\n",
        "        self.pizza = Pizza()\n",
        "        self.pizza.name = \"Pizza four cheeses\"\n",
        "\n",
        "    def reset(self):\n",
        "        if self.pizza.cheeses:\n",
        "            self.pizza = Pizza()\n",
        "            self.pizza.name = \"Pizza four cheeses\"\n",
        "\n",
        "    def get_pizza(self):\n",
        "        return self.pizza\n",
        "\n",
        "    def get_info(self):\n",
        "        return self.pizza.get_info()\n",
        "\n",
        "    def set_dough(self, dough): # выбрать тесто\n",
        "        if dough in [\"Thick\", \"Thin\", \"Closed\"]:\n",
        "            self.pizza.dough = dough\n",
        "\n",
        "    def add_cheese(self):\n",
        "        self.pizza.add_cheese(\"Mozzarella cheese\")\n",
        "        self.pizza.add_cheese(\"Gorgonzola cheese\")\n",
        "        self.pizza.add_cheese(\"Parmesan cheese\")\n",
        "        self.pizza.add_cheese(\"Ricotta cheese\")\n",
        "\n",
        "    def add_meat(self):\n",
        "        pass\n",
        "\n",
        "    def add_topping(self, special_ingredients):\n",
        "        self.pizza.add_standard_topping(\"Tomato sauce\")\n",
        "        self.pizza.add_standard_topping(\"Bacon\")\n",
        "        self.pizza.add_standard_topping(\"Olive oil\")\n",
        "        self.pizza.add_standard_topping(\"Salt and pepper\")\n",
        "\n",
        "        for topping in (set(special_ingredients) & set([\"Hot pepper\", \"Bacon\", \"Extra mozarella cheese\", \"Extra tomato sauce\",\n",
        "                                                        \"Mushrooms\",\"Feta cheese\", \"Dorblu cheese\"])):\n",
        "            self.pizza.add_addit_topping(topping)"
      ],
      "metadata": {
        "id": "NXBYgN5OveqA"
      },
      "execution_count": 5,
      "outputs": []
    },
    {
      "cell_type": "code",
      "source": [
        "class PizzaDirector: # Director\n",
        "    def __init__(self, pizza_type = \"Margherita\"):\n",
        "        if pizza_type in [\"Meat\", \"Four cheeses\"]:\n",
        "            if pizza_type == \"Meat\":\n",
        "                self.builder = MeatPizzaBuilder()\n",
        "            else:\n",
        "                self.builder = FourCheesesPizzaBuilder()\n",
        "        else:\n",
        "            self.builder = MargheritaPizzaBuilder() # \"Margherita\" или некорректный ввод -> делаем маргариту\n",
        "\n",
        "    def set_pizza_type(self, pizza_type = \"Margherita\"):\n",
        "        if pizza_type in [\"Margherita\", \"Meat\", \"Four cheeses\"]: # ввели что-то корректное -> поменяем тип пиццы\n",
        "            if pizza_type == \"Margherita\":\n",
        "                self.builder = MargheritaPizzaBuilder()\n",
        "            elif pizza_type == \"Meat\":\n",
        "                self.builder = MeatPizzaBuilder()\n",
        "            else:\n",
        "                self.builder = FourCheesesPizzaBuilder()\n",
        "\n",
        "    def make_pizza(self, dough = \"Thick\", special_ingredients = []):\n",
        "        self.builder.reset() # Пицца мб уже собрана, а мы хотим новую\n",
        "        self.builder.set_dough(dough)\n",
        "        self.builder.add_cheese()\n",
        "        self.builder.add_meat()\n",
        "        self.builder.add_topping(special_ingredients)\n",
        "\n",
        "    def get_info(self): # для помещения в csv файл\n",
        "        return self.builder.get_info()\n",
        "\n",
        "    def get_pizza(self): # для красивого вывода\n",
        "        return self.builder.get_pizza()"
      ],
      "metadata": {
        "id": "YRH6dxsNCVYn"
      },
      "execution_count": 6,
      "outputs": []
    },
    {
      "cell_type": "code",
      "source": [
        "director = PizzaDirector(\"Meat\")\n",
        "director.make_pizza(dough=\"Thin\", special_ingredients=[\"bred\", \"Hot pepper\"])"
      ],
      "metadata": {
        "id": "A8CV02S0If0O"
      },
      "execution_count": 7,
      "outputs": []
    },
    {
      "cell_type": "code",
      "source": [
        "pizza = director.get_pizza()\n",
        "print(pizza)"
      ],
      "metadata": {
        "colab": {
          "base_uri": "https://localhost:8080/"
        },
        "id": "w2ltq5fkJnB-",
        "outputId": "a67deb42-408b-4581-f9e3-745b9d4bab1f"
      },
      "execution_count": 8,
      "outputs": [
        {
          "output_type": "stream",
          "name": "stdout",
          "text": [
            "Meat pizza:\n",
            "- Dough: Thin\n",
            "- Cheese: Mozzarella cheese\n",
            "- Meat: Pepperoni slices, Sausage slices, Ham slices\n",
            "- Standard toppings: Tomato sauce, Bacon, Olive oil, Salt and pepper\n",
            "- Additional toppings: Hot pepper\n"
          ]
        }
      ]
    },
    {
      "cell_type": "markdown",
      "source": [
        "## Вывод в файл"
      ],
      "metadata": {
        "id": "N8t4pc9AweCm"
      }
    },
    {
      "cell_type": "code",
      "source": [
        "from itertools import combinations\n",
        "\n",
        "d = {\"Margherita\" : [\"Hot pepper\", \"Bacon\", \"Extra mozarella cheese\", \"Extra tomato sauce\", \"Mushrooms\", \"Tomatoes\"],\n",
        "     \"Meat\" : [\"Hot pepper\", \"Extra bacon\", \"Extra mozarella cheese\", \"Extra tomato sauce\", \"Mushrooms\", \"Double pepperoni\", \"Extra ham\"],\n",
        "     \"Four cheeses\" : [\"Hot pepper\", \"Bacon\", \"Extra mozarella cheese\", \"Extra tomato sauce\", \"Mushrooms\", \"Feta cheese\", \"Dorblu cheese\"]}"
      ],
      "metadata": {
        "id": "KtysQcM5VyDl"
      },
      "execution_count": 9,
      "outputs": []
    },
    {
      "cell_type": "code",
      "source": [
        "import csv\n",
        "with open(\"pizza.csv\", mode=\"w\", encoding='utf-8') as w_file:\n",
        "    file_writer = csv.writer(w_file, delimiter = \",\", lineterminator=\"\\n\")\n",
        "    file_writer.writerow([\"Name\", \"Dough\", \"Cheeses\", \"Meats\", \"Standard toppings\", \"Additional toppings\"])\n",
        "    for name in d.keys():\n",
        "        director.set_pizza_type(name)\n",
        "        for dough in [\"Thick\", \"Thin\", \"Closed\"]:\n",
        "            for i in range(0, len(d[name]) + 1):\n",
        "                for item in combinations(d[name], i):\n",
        "                    director.make_pizza(dough, item)\n",
        "                    file_writer.writerow(director.get_info())"
      ],
      "metadata": {
        "id": "9lquLFH_dCo1"
      },
      "execution_count": 10,
      "outputs": []
    }
  ]
}
