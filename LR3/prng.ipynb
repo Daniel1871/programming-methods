{
  "nbformat": 4,
  "nbformat_minor": 0,
  "metadata": {
    "colab": {
      "provenance": []
    },
    "kernelspec": {
      "name": "python3",
      "display_name": "Python 3"
    },
    "language_info": {
      "name": "python"
    }
  },
  "cells": [
    {
      "cell_type": "markdown",
      "source": [
        "## Полиномиальный конгруэнтный генератор\n"
      ],
      "metadata": {
        "id": "5jqJT0NnJb_r"
      }
    },
    {
      "cell_type": "markdown",
      "source": [
        "Используем многочлен 5-й степени."
      ],
      "metadata": {
        "id": "dW_s3EleILlb"
      }
    },
    {
      "cell_type": "code",
      "source": [
        "def pcg(m, arr, seed):\n",
        "    return (arr[0] * seed ** 5 + arr[1] * seed ** 4 + arr[2] * seed ** 3 + arr[3] * seed ** 2 + arr[4] * seed + arr[5]) % m"
      ],
      "metadata": {
        "id": "QsdJTPVVFSdO"
      },
      "execution_count": null,
      "outputs": []
    },
    {
      "cell_type": "markdown",
      "source": [
        "## Инверсный конгруэнтный генератор"
      ],
      "metadata": {
        "id": "8MMo_Urswuft"
      }
    },
    {
      "cell_type": "code",
      "source": [
        "def egcd(a, b):\n",
        "    if a == 0:\n",
        "        return (b, 0, 1)\n",
        "    else:\n",
        "        g, y, x = egcd(b % a, a)\n",
        "        return (g, x - (b // a) * y, y)\n",
        "\n",
        "def inv(a, m):\n",
        "    gcd, x, y = egcd(a, m)\n",
        "    if gcd != 1:\n",
        "        return None\n",
        "    else:\n",
        "        return x % m\n",
        "\n",
        "def icg(m, a, c, seed):\n",
        "    if (seed == 0):\n",
        "        return c\n",
        "    return (a * inv(seed, m) + c) % m"
      ],
      "metadata": {
        "id": "qr3ohI-owmGR"
      },
      "execution_count": null,
      "outputs": []
    },
    {
      "cell_type": "markdown",
      "source": [
        "## Получение выборок"
      ],
      "metadata": {
        "id": "DMmrjkd8Kxbh"
      }
    },
    {
      "cell_type": "code",
      "source": [
        "count = 20\n",
        "size = 100"
      ],
      "metadata": {
        "id": "YAWo5zePK2A1"
      },
      "execution_count": null,
      "outputs": []
    },
    {
      "cell_type": "code",
      "source": [
        "sample_pcg = []\n",
        "arr, m1, seed = [205, 936, 1399, 625, 6571, 29573], 139968, 1\n",
        "for i in range(count):\n",
        "    sample = []\n",
        "    for j in range(size):\n",
        "        seed = pcg(m1, arr, seed)\n",
        "        sample.append(seed)\n",
        "    sample_pcg.append(sample)"
      ],
      "metadata": {
        "id": "f6APc3UPMr4b"
      },
      "execution_count": null,
      "outputs": []
    },
    {
      "cell_type": "code",
      "source": [
        "sample_icg = []\n",
        "seed, a, c, m2 = 1, 1, 1, 104729\n",
        "for i in range(count):\n",
        "    sample = []\n",
        "    for j in range(size):\n",
        "        seed = icg(m2, a, c, seed)\n",
        "        sample.append(seed)\n",
        "    sample_icg.append(sample)"
      ],
      "metadata": {
        "id": "dWhT8cksLLBd"
      },
      "execution_count": null,
      "outputs": []
    },
    {
      "cell_type": "markdown",
      "source": [
        "## Подсчет среднего, отклонения и коэффициента вариации"
      ],
      "metadata": {
        "id": "No1_ctE7NjFt"
      }
    },
    {
      "cell_type": "code",
      "source": [
        "import numpy as np\n",
        "import pandas as pd\n",
        "\n",
        "sample_pcg = np.array(sample_pcg)\n",
        "sample_icg = np.array(sample_icg)"
      ],
      "metadata": {
        "id": "MZylTOvTOcac"
      },
      "execution_count": null,
      "outputs": []
    },
    {
      "cell_type": "code",
      "source": [
        "data_pcg = {'mean' : [], 'std' : [], 'cv' : []}\n",
        "for sample in sample_pcg:\n",
        "    mn = np.mean(sample)\n",
        "    st = np.std(sample)\n",
        "    data_pcg['mean'].append(np.round(mn, 1))\n",
        "    data_pcg['std'].append(np.round(st, 1))\n",
        "    data_pcg['cv'].append(np.round(st / mn, 3))"
      ],
      "metadata": {
        "id": "9utlIYwzRSU0"
      },
      "execution_count": null,
      "outputs": []
    },
    {
      "cell_type": "code",
      "source": [
        "df_pcg = pd.DataFrame(data=data_pcg.values(), index=[\"Среднее\", \"Отклонение\", \"Коэф. вариации\"], columns=list(map(str, range(1, count + 1))))\n",
        "df_pcg"
      ],
      "metadata": {
        "colab": {
          "base_uri": "https://localhost:8080/",
          "height": 180
        },
        "id": "oPYUDz_yUFnf",
        "outputId": "50f6fa3a-612a-409e-cfb0-27a834a79d84"
      },
      "execution_count": null,
      "outputs": [
        {
          "output_type": "execute_result",
          "data": {
            "text/plain": [
              "                        1          2          3          4          5  \\\n",
              "Среднее         62893.700  67029.400  71804.400  67680.300  63625.200   \n",
              "Отклонение      37602.100  40285.500  38708.400  43716.200  41748.700   \n",
              "Коэф. вариации      0.598      0.601      0.539      0.646      0.656   \n",
              "\n",
              "                        6          7          8          9         10  \\\n",
              "Среднее         66585.900  79154.200  66441.900  76919.300  69321.900   \n",
              "Отклонение      40774.500  39664.500  43294.800  39679.400  39664.000   \n",
              "Коэф. вариации      0.612      0.501      0.652      0.516      0.572   \n",
              "\n",
              "                       11         12         13         14        15  \\\n",
              "Среднее         79678.400  70612.100  68976.300  73941.400  68659.50   \n",
              "Отклонение      41085.700  40064.400  38522.600  38260.100  38475.80   \n",
              "Коэф. вариации      0.516      0.567      0.558      0.517      0.56   \n",
              "\n",
              "                       16         17         18         19         20  \n",
              "Среднее         64120.600  68826.500  68262.000  75750.000  64333.700  \n",
              "Отклонение      42060.800  38144.800  37065.700  41427.400  40879.300  \n",
              "Коэф. вариации      0.656      0.554      0.543      0.547      0.635  "
            ],
            "text/html": [
              "\n",
              "  <div id=\"df-4283cf0e-b023-4ade-8db1-b676e16750a1\" class=\"colab-df-container\">\n",
              "    <div>\n",
              "<style scoped>\n",
              "    .dataframe tbody tr th:only-of-type {\n",
              "        vertical-align: middle;\n",
              "    }\n",
              "\n",
              "    .dataframe tbody tr th {\n",
              "        vertical-align: top;\n",
              "    }\n",
              "\n",
              "    .dataframe thead th {\n",
              "        text-align: right;\n",
              "    }\n",
              "</style>\n",
              "<table border=\"1\" class=\"dataframe\">\n",
              "  <thead>\n",
              "    <tr style=\"text-align: right;\">\n",
              "      <th></th>\n",
              "      <th>1</th>\n",
              "      <th>2</th>\n",
              "      <th>3</th>\n",
              "      <th>4</th>\n",
              "      <th>5</th>\n",
              "      <th>6</th>\n",
              "      <th>7</th>\n",
              "      <th>8</th>\n",
              "      <th>9</th>\n",
              "      <th>10</th>\n",
              "      <th>11</th>\n",
              "      <th>12</th>\n",
              "      <th>13</th>\n",
              "      <th>14</th>\n",
              "      <th>15</th>\n",
              "      <th>16</th>\n",
              "      <th>17</th>\n",
              "      <th>18</th>\n",
              "      <th>19</th>\n",
              "      <th>20</th>\n",
              "    </tr>\n",
              "  </thead>\n",
              "  <tbody>\n",
              "    <tr>\n",
              "      <th>Среднее</th>\n",
              "      <td>62893.700</td>\n",
              "      <td>67029.400</td>\n",
              "      <td>71804.400</td>\n",
              "      <td>67680.300</td>\n",
              "      <td>63625.200</td>\n",
              "      <td>66585.900</td>\n",
              "      <td>79154.200</td>\n",
              "      <td>66441.900</td>\n",
              "      <td>76919.300</td>\n",
              "      <td>69321.900</td>\n",
              "      <td>79678.400</td>\n",
              "      <td>70612.100</td>\n",
              "      <td>68976.300</td>\n",
              "      <td>73941.400</td>\n",
              "      <td>68659.50</td>\n",
              "      <td>64120.600</td>\n",
              "      <td>68826.500</td>\n",
              "      <td>68262.000</td>\n",
              "      <td>75750.000</td>\n",
              "      <td>64333.700</td>\n",
              "    </tr>\n",
              "    <tr>\n",
              "      <th>Отклонение</th>\n",
              "      <td>37602.100</td>\n",
              "      <td>40285.500</td>\n",
              "      <td>38708.400</td>\n",
              "      <td>43716.200</td>\n",
              "      <td>41748.700</td>\n",
              "      <td>40774.500</td>\n",
              "      <td>39664.500</td>\n",
              "      <td>43294.800</td>\n",
              "      <td>39679.400</td>\n",
              "      <td>39664.000</td>\n",
              "      <td>41085.700</td>\n",
              "      <td>40064.400</td>\n",
              "      <td>38522.600</td>\n",
              "      <td>38260.100</td>\n",
              "      <td>38475.80</td>\n",
              "      <td>42060.800</td>\n",
              "      <td>38144.800</td>\n",
              "      <td>37065.700</td>\n",
              "      <td>41427.400</td>\n",
              "      <td>40879.300</td>\n",
              "    </tr>\n",
              "    <tr>\n",
              "      <th>Коэф. вариации</th>\n",
              "      <td>0.598</td>\n",
              "      <td>0.601</td>\n",
              "      <td>0.539</td>\n",
              "      <td>0.646</td>\n",
              "      <td>0.656</td>\n",
              "      <td>0.612</td>\n",
              "      <td>0.501</td>\n",
              "      <td>0.652</td>\n",
              "      <td>0.516</td>\n",
              "      <td>0.572</td>\n",
              "      <td>0.516</td>\n",
              "      <td>0.567</td>\n",
              "      <td>0.558</td>\n",
              "      <td>0.517</td>\n",
              "      <td>0.56</td>\n",
              "      <td>0.656</td>\n",
              "      <td>0.554</td>\n",
              "      <td>0.543</td>\n",
              "      <td>0.547</td>\n",
              "      <td>0.635</td>\n",
              "    </tr>\n",
              "  </tbody>\n",
              "</table>\n",
              "</div>\n",
              "    <div class=\"colab-df-buttons\">\n",
              "\n",
              "  <div class=\"colab-df-container\">\n",
              "    <button class=\"colab-df-convert\" onclick=\"convertToInteractive('df-4283cf0e-b023-4ade-8db1-b676e16750a1')\"\n",
              "            title=\"Convert this dataframe to an interactive table.\"\n",
              "            style=\"display:none;\">\n",
              "\n",
              "  <svg xmlns=\"http://www.w3.org/2000/svg\" height=\"24px\" viewBox=\"0 -960 960 960\">\n",
              "    <path d=\"M120-120v-720h720v720H120Zm60-500h600v-160H180v160Zm220 220h160v-160H400v160Zm0 220h160v-160H400v160ZM180-400h160v-160H180v160Zm440 0h160v-160H620v160ZM180-180h160v-160H180v160Zm440 0h160v-160H620v160Z\"/>\n",
              "  </svg>\n",
              "    </button>\n",
              "\n",
              "  <style>\n",
              "    .colab-df-container {\n",
              "      display:flex;\n",
              "      gap: 12px;\n",
              "    }\n",
              "\n",
              "    .colab-df-convert {\n",
              "      background-color: #E8F0FE;\n",
              "      border: none;\n",
              "      border-radius: 50%;\n",
              "      cursor: pointer;\n",
              "      display: none;\n",
              "      fill: #1967D2;\n",
              "      height: 32px;\n",
              "      padding: 0 0 0 0;\n",
              "      width: 32px;\n",
              "    }\n",
              "\n",
              "    .colab-df-convert:hover {\n",
              "      background-color: #E2EBFA;\n",
              "      box-shadow: 0px 1px 2px rgba(60, 64, 67, 0.3), 0px 1px 3px 1px rgba(60, 64, 67, 0.15);\n",
              "      fill: #174EA6;\n",
              "    }\n",
              "\n",
              "    .colab-df-buttons div {\n",
              "      margin-bottom: 4px;\n",
              "    }\n",
              "\n",
              "    [theme=dark] .colab-df-convert {\n",
              "      background-color: #3B4455;\n",
              "      fill: #D2E3FC;\n",
              "    }\n",
              "\n",
              "    [theme=dark] .colab-df-convert:hover {\n",
              "      background-color: #434B5C;\n",
              "      box-shadow: 0px 1px 3px 1px rgba(0, 0, 0, 0.15);\n",
              "      filter: drop-shadow(0px 1px 2px rgba(0, 0, 0, 0.3));\n",
              "      fill: #FFFFFF;\n",
              "    }\n",
              "  </style>\n",
              "\n",
              "    <script>\n",
              "      const buttonEl =\n",
              "        document.querySelector('#df-4283cf0e-b023-4ade-8db1-b676e16750a1 button.colab-df-convert');\n",
              "      buttonEl.style.display =\n",
              "        google.colab.kernel.accessAllowed ? 'block' : 'none';\n",
              "\n",
              "      async function convertToInteractive(key) {\n",
              "        const element = document.querySelector('#df-4283cf0e-b023-4ade-8db1-b676e16750a1');\n",
              "        const dataTable =\n",
              "          await google.colab.kernel.invokeFunction('convertToInteractive',\n",
              "                                                    [key], {});\n",
              "        if (!dataTable) return;\n",
              "\n",
              "        const docLinkHtml = 'Like what you see? Visit the ' +\n",
              "          '<a target=\"_blank\" href=https://colab.research.google.com/notebooks/data_table.ipynb>data table notebook</a>'\n",
              "          + ' to learn more about interactive tables.';\n",
              "        element.innerHTML = '';\n",
              "        dataTable['output_type'] = 'display_data';\n",
              "        await google.colab.output.renderOutput(dataTable, element);\n",
              "        const docLink = document.createElement('div');\n",
              "        docLink.innerHTML = docLinkHtml;\n",
              "        element.appendChild(docLink);\n",
              "      }\n",
              "    </script>\n",
              "  </div>\n",
              "\n",
              "\n",
              "<div id=\"df-66e6728f-2a0c-42d5-831d-10854edc3e0c\">\n",
              "  <button class=\"colab-df-quickchart\" onclick=\"quickchart('df-66e6728f-2a0c-42d5-831d-10854edc3e0c')\"\n",
              "            title=\"Suggest charts\"\n",
              "            style=\"display:none;\">\n",
              "\n",
              "<svg xmlns=\"http://www.w3.org/2000/svg\" height=\"24px\"viewBox=\"0 0 24 24\"\n",
              "     width=\"24px\">\n",
              "    <g>\n",
              "        <path d=\"M19 3H5c-1.1 0-2 .9-2 2v14c0 1.1.9 2 2 2h14c1.1 0 2-.9 2-2V5c0-1.1-.9-2-2-2zM9 17H7v-7h2v7zm4 0h-2V7h2v10zm4 0h-2v-4h2v4z\"/>\n",
              "    </g>\n",
              "</svg>\n",
              "  </button>\n",
              "\n",
              "<style>\n",
              "  .colab-df-quickchart {\n",
              "      --bg-color: #E8F0FE;\n",
              "      --fill-color: #1967D2;\n",
              "      --hover-bg-color: #E2EBFA;\n",
              "      --hover-fill-color: #174EA6;\n",
              "      --disabled-fill-color: #AAA;\n",
              "      --disabled-bg-color: #DDD;\n",
              "  }\n",
              "\n",
              "  [theme=dark] .colab-df-quickchart {\n",
              "      --bg-color: #3B4455;\n",
              "      --fill-color: #D2E3FC;\n",
              "      --hover-bg-color: #434B5C;\n",
              "      --hover-fill-color: #FFFFFF;\n",
              "      --disabled-bg-color: #3B4455;\n",
              "      --disabled-fill-color: #666;\n",
              "  }\n",
              "\n",
              "  .colab-df-quickchart {\n",
              "    background-color: var(--bg-color);\n",
              "    border: none;\n",
              "    border-radius: 50%;\n",
              "    cursor: pointer;\n",
              "    display: none;\n",
              "    fill: var(--fill-color);\n",
              "    height: 32px;\n",
              "    padding: 0;\n",
              "    width: 32px;\n",
              "  }\n",
              "\n",
              "  .colab-df-quickchart:hover {\n",
              "    background-color: var(--hover-bg-color);\n",
              "    box-shadow: 0 1px 2px rgba(60, 64, 67, 0.3), 0 1px 3px 1px rgba(60, 64, 67, 0.15);\n",
              "    fill: var(--button-hover-fill-color);\n",
              "  }\n",
              "\n",
              "  .colab-df-quickchart-complete:disabled,\n",
              "  .colab-df-quickchart-complete:disabled:hover {\n",
              "    background-color: var(--disabled-bg-color);\n",
              "    fill: var(--disabled-fill-color);\n",
              "    box-shadow: none;\n",
              "  }\n",
              "\n",
              "  .colab-df-spinner {\n",
              "    border: 2px solid var(--fill-color);\n",
              "    border-color: transparent;\n",
              "    border-bottom-color: var(--fill-color);\n",
              "    animation:\n",
              "      spin 1s steps(1) infinite;\n",
              "  }\n",
              "\n",
              "  @keyframes spin {\n",
              "    0% {\n",
              "      border-color: transparent;\n",
              "      border-bottom-color: var(--fill-color);\n",
              "      border-left-color: var(--fill-color);\n",
              "    }\n",
              "    20% {\n",
              "      border-color: transparent;\n",
              "      border-left-color: var(--fill-color);\n",
              "      border-top-color: var(--fill-color);\n",
              "    }\n",
              "    30% {\n",
              "      border-color: transparent;\n",
              "      border-left-color: var(--fill-color);\n",
              "      border-top-color: var(--fill-color);\n",
              "      border-right-color: var(--fill-color);\n",
              "    }\n",
              "    40% {\n",
              "      border-color: transparent;\n",
              "      border-right-color: var(--fill-color);\n",
              "      border-top-color: var(--fill-color);\n",
              "    }\n",
              "    60% {\n",
              "      border-color: transparent;\n",
              "      border-right-color: var(--fill-color);\n",
              "    }\n",
              "    80% {\n",
              "      border-color: transparent;\n",
              "      border-right-color: var(--fill-color);\n",
              "      border-bottom-color: var(--fill-color);\n",
              "    }\n",
              "    90% {\n",
              "      border-color: transparent;\n",
              "      border-bottom-color: var(--fill-color);\n",
              "    }\n",
              "  }\n",
              "</style>\n",
              "\n",
              "  <script>\n",
              "    async function quickchart(key) {\n",
              "      const quickchartButtonEl =\n",
              "        document.querySelector('#' + key + ' button');\n",
              "      quickchartButtonEl.disabled = true;  // To prevent multiple clicks.\n",
              "      quickchartButtonEl.classList.add('colab-df-spinner');\n",
              "      try {\n",
              "        const charts = await google.colab.kernel.invokeFunction(\n",
              "            'suggestCharts', [key], {});\n",
              "      } catch (error) {\n",
              "        console.error('Error during call to suggestCharts:', error);\n",
              "      }\n",
              "      quickchartButtonEl.classList.remove('colab-df-spinner');\n",
              "      quickchartButtonEl.classList.add('colab-df-quickchart-complete');\n",
              "    }\n",
              "    (() => {\n",
              "      let quickchartButtonEl =\n",
              "        document.querySelector('#df-66e6728f-2a0c-42d5-831d-10854edc3e0c button');\n",
              "      quickchartButtonEl.style.display =\n",
              "        google.colab.kernel.accessAllowed ? 'block' : 'none';\n",
              "    })();\n",
              "  </script>\n",
              "</div>\n",
              "    </div>\n",
              "  </div>\n"
            ],
            "application/vnd.google.colaboratory.intrinsic+json": {
              "type": "dataframe",
              "variable_name": "df_pcg",
              "summary": "{\n  \"name\": \"df_pcg\",\n  \"rows\": 3,\n  \"fields\": [\n    {\n      \"column\": \"1\",\n      \"properties\": {\n        \"dtype\": \"number\",\n        \"std\": 31646.69614772451,\n        \"min\": 0.598,\n        \"max\": 62893.7,\n        \"num_unique_values\": 3,\n        \"samples\": [\n          62893.7,\n          37602.1,\n          0.598\n        ],\n        \"semantic_type\": \"\",\n        \"description\": \"\"\n      }\n    },\n    {\n      \"column\": \"2\",\n      \"properties\": {\n        \"dtype\": \"number\",\n        \"std\": 33741.58949534091,\n        \"min\": 0.601,\n        \"max\": 67029.4,\n        \"num_unique_values\": 3,\n        \"samples\": [\n          67029.4,\n          40285.5,\n          0.601\n        ],\n        \"semantic_type\": \"\",\n        \"description\": \"\"\n      }\n    },\n    {\n      \"column\": \"3\",\n      \"properties\": {\n        \"dtype\": \"number\",\n        \"std\": 35938.461694269005,\n        \"min\": 0.539,\n        \"max\": 71804.4,\n        \"num_unique_values\": 3,\n        \"samples\": [\n          71804.4,\n          38708.4,\n          0.539\n        ],\n        \"semantic_type\": \"\",\n        \"description\": \"\"\n      }\n    },\n    {\n      \"column\": \"4\",\n      \"properties\": {\n        \"dtype\": \"number\",\n        \"std\": 34316.816373066606,\n        \"min\": 0.646,\n        \"max\": 67680.3,\n        \"num_unique_values\": 3,\n        \"samples\": [\n          67680.3,\n          43716.2,\n          0.646\n        ],\n        \"semantic_type\": \"\",\n        \"description\": \"\"\n      }\n    },\n    {\n      \"column\": \"5\",\n      \"properties\": {\n        \"dtype\": \"number\",\n        \"std\": 32325.333278209397,\n        \"min\": 0.656,\n        \"max\": 63625.2,\n        \"num_unique_values\": 3,\n        \"samples\": [\n          63625.2,\n          41748.7,\n          0.656\n        ],\n        \"semantic_type\": \"\",\n        \"description\": \"\"\n      }\n    },\n    {\n      \"column\": \"6\",\n      \"properties\": {\n        \"dtype\": \"number\",\n        \"std\": 33571.6618857817,\n        \"min\": 0.612,\n        \"max\": 66585.9,\n        \"num_unique_values\": 3,\n        \"samples\": [\n          66585.9,\n          40774.5,\n          0.612\n        ],\n        \"semantic_type\": \"\",\n        \"description\": \"\"\n      }\n    },\n    {\n      \"column\": \"7\",\n      \"properties\": {\n        \"dtype\": \"number\",\n        \"std\": 39576.88148432239,\n        \"min\": 0.501,\n        \"max\": 79154.2,\n        \"num_unique_values\": 3,\n        \"samples\": [\n          79154.2,\n          39664.5,\n          0.501\n        ],\n        \"semantic_type\": \"\",\n        \"description\": \"\"\n      }\n    },\n    {\n      \"column\": \"8\",\n      \"properties\": {\n        \"dtype\": \"number\",\n        \"std\": 33725.882556412085,\n        \"min\": 0.652,\n        \"max\": 66441.9,\n        \"num_unique_values\": 3,\n        \"samples\": [\n          66441.9,\n          43294.8,\n          0.652\n        ],\n        \"semantic_type\": \"\",\n        \"description\": \"\"\n      }\n    },\n    {\n      \"column\": \"9\",\n      \"properties\": {\n        \"dtype\": \"number\",\n        \"std\": 38465.836182977815,\n        \"min\": 0.516,\n        \"max\": 76919.3,\n        \"num_unique_values\": 3,\n        \"samples\": [\n          76919.3,\n          39679.4,\n          0.516\n        ],\n        \"semantic_type\": \"\",\n        \"description\": \"\"\n      }\n    },\n    {\n      \"column\": \"10\",\n      \"properties\": {\n        \"dtype\": \"number\",\n        \"std\": 34780.80186157484,\n        \"min\": 0.572,\n        \"max\": 69321.9,\n        \"num_unique_values\": 3,\n        \"samples\": [\n          69321.9,\n          39664.0,\n          0.572\n        ],\n        \"semantic_type\": \"\",\n        \"description\": \"\"\n      }\n    },\n    {\n      \"column\": \"11\",\n      \"properties\": {\n        \"dtype\": \"number\",\n        \"std\": 39845.438961737535,\n        \"min\": 0.516,\n        \"max\": 79678.4,\n        \"num_unique_values\": 3,\n        \"samples\": [\n          79678.4,\n          41085.7,\n          0.516\n        ],\n        \"semantic_type\": \"\",\n        \"description\": \"\"\n      }\n    },\n    {\n      \"column\": \"12\",\n      \"properties\": {\n        \"dtype\": \"number\",\n        \"std\": 35412.47727979499,\n        \"min\": 0.567,\n        \"max\": 70612.1,\n        \"num_unique_values\": 3,\n        \"samples\": [\n          70612.1,\n          40064.4,\n          0.567\n        ],\n        \"semantic_type\": \"\",\n        \"description\": \"\"\n      }\n    },\n    {\n      \"column\": \"13\",\n      \"properties\": {\n        \"dtype\": \"number\",\n        \"std\": 34566.430121314545,\n        \"min\": 0.558,\n        \"max\": 68976.3,\n        \"num_unique_values\": 3,\n        \"samples\": [\n          68976.3,\n          38522.6,\n          0.558\n        ],\n        \"semantic_type\": \"\",\n        \"description\": \"\"\n      }\n    },\n    {\n      \"column\": \"14\",\n      \"properties\": {\n        \"dtype\": \"number\",\n        \"std\": 36977.932698308,\n        \"min\": 0.517,\n        \"max\": 73941.4,\n        \"num_unique_values\": 3,\n        \"samples\": [\n          73941.4,\n          38260.1,\n          0.517\n        ],\n        \"semantic_type\": \"\",\n        \"description\": \"\"\n      }\n    },\n    {\n      \"column\": \"15\",\n      \"properties\": {\n        \"dtype\": \"number\",\n        \"std\": 34412.812247454196,\n        \"min\": 0.56,\n        \"max\": 68659.5,\n        \"num_unique_values\": 3,\n        \"samples\": [\n          68659.5,\n          38475.8,\n          0.56\n        ],\n        \"semantic_type\": \"\",\n        \"description\": \"\"\n      }\n    },\n    {\n      \"column\": \"16\",\n      \"properties\": {\n        \"dtype\": \"number\",\n        \"std\": 32575.700831304384,\n        \"min\": 0.656,\n        \"max\": 64120.6,\n        \"num_unique_values\": 3,\n        \"samples\": [\n          64120.6,\n          42060.8,\n          0.656\n        ],\n        \"semantic_type\": \"\",\n        \"description\": \"\"\n      }\n    },\n    {\n      \"column\": \"17\",\n      \"properties\": {\n        \"dtype\": \"number\",\n        \"std\": 34480.33512161542,\n        \"min\": 0.554,\n        \"max\": 68826.5,\n        \"num_unique_values\": 3,\n        \"samples\": [\n          68826.5,\n          38144.8,\n          0.554\n        ],\n        \"semantic_type\": \"\",\n        \"description\": \"\"\n      }\n    },\n    {\n      \"column\": \"18\",\n      \"properties\": {\n        \"dtype\": \"number\",\n        \"std\": 34172.751105931115,\n        \"min\": 0.543,\n        \"max\": 68262.0,\n        \"num_unique_values\": 3,\n        \"samples\": [\n          68262.0,\n          37065.7,\n          0.543\n        ],\n        \"semantic_type\": \"\",\n        \"description\": \"\"\n      }\n    },\n    {\n      \"column\": \"19\",\n      \"properties\": {\n        \"dtype\": \"number\",\n        \"std\": 37930.20926658771,\n        \"min\": 0.547,\n        \"max\": 75750.0,\n        \"num_unique_values\": 3,\n        \"samples\": [\n          75750.0,\n          41427.4,\n          0.547\n        ],\n        \"semantic_type\": \"\",\n        \"description\": \"\"\n      }\n    },\n    {\n      \"column\": \"20\",\n      \"properties\": {\n        \"dtype\": \"number\",\n        \"std\": 32557.429730238353,\n        \"min\": 0.635,\n        \"max\": 64333.7,\n        \"num_unique_values\": 3,\n        \"samples\": [\n          64333.7,\n          40879.3,\n          0.635\n        ],\n        \"semantic_type\": \"\",\n        \"description\": \"\"\n      }\n    }\n  ]\n}"
            }
          },
          "metadata": {},
          "execution_count": 8
        }
      ]
    },
    {
      "cell_type": "code",
      "source": [
        "data_icg = {'mean' : [], 'std' : [], 'cv' : []}\n",
        "for sample in sample_icg:\n",
        "    mn = np.mean(sample)\n",
        "    st = np.std(sample)\n",
        "    data_icg['mean'].append(np.round(mn, 1))\n",
        "    data_icg['std'].append(np.round(st, 1))\n",
        "    data_icg['cv'].append(np.round(st / mn, 3))"
      ],
      "metadata": {
        "id": "rRDBCNarXdqJ"
      },
      "execution_count": null,
      "outputs": []
    },
    {
      "cell_type": "code",
      "source": [
        "df_icg = pd.DataFrame(data=data_icg.values(), index=[\"Среднее\", \"Отклонение\", \"Коэф. вариации\"], columns=list(map(str, range(1, count + 1))))\n",
        "df_icg"
      ],
      "metadata": {
        "colab": {
          "base_uri": "https://localhost:8080/",
          "height": 180
        },
        "id": "HLAg0vSFYz-1",
        "outputId": "378effed-83a8-440d-f3c5-501a38427bb5"
      },
      "execution_count": null,
      "outputs": [
        {
          "output_type": "execute_result",
          "data": {
            "text/plain": [
              "                        1          2          3          4          5  \\\n",
              "Среднее         52241.600  55154.700  53762.200  55237.000  53622.400   \n",
              "Отклонение      28834.100  31513.800  29838.900  30857.300  29396.600   \n",
              "Коэф. вариации      0.552      0.571      0.555      0.559      0.548   \n",
              "\n",
              "                       6          7          8          9         10  \\\n",
              "Среднее         49127.20  50114.500  50513.800  52058.000  50352.500   \n",
              "Отклонение      29966.30  29527.100  30490.000  31292.900  29357.200   \n",
              "Коэф. вариации      0.61      0.589      0.604      0.601      0.583   \n",
              "\n",
              "                       11         12        13        14         15        16  \\\n",
              "Среднее         54878.600  53924.000  51139.60  53146.30  52132.400  54279.60   \n",
              "Отклонение      27866.000  31490.700  28106.10  30815.10  29280.400  29844.60   \n",
              "Коэф. вариации      0.508      0.584      0.55      0.58      0.562      0.55   \n",
              "\n",
              "                       17         18         19         20  \n",
              "Среднее         49485.700  50991.800  53010.100  55542.700  \n",
              "Отклонение      28150.600  30126.900  30477.500  29600.800  \n",
              "Коэф. вариации      0.569      0.591      0.575      0.533  "
            ],
            "text/html": [
              "\n",
              "  <div id=\"df-7256f822-a40a-45b2-999b-6092a465dda4\" class=\"colab-df-container\">\n",
              "    <div>\n",
              "<style scoped>\n",
              "    .dataframe tbody tr th:only-of-type {\n",
              "        vertical-align: middle;\n",
              "    }\n",
              "\n",
              "    .dataframe tbody tr th {\n",
              "        vertical-align: top;\n",
              "    }\n",
              "\n",
              "    .dataframe thead th {\n",
              "        text-align: right;\n",
              "    }\n",
              "</style>\n",
              "<table border=\"1\" class=\"dataframe\">\n",
              "  <thead>\n",
              "    <tr style=\"text-align: right;\">\n",
              "      <th></th>\n",
              "      <th>1</th>\n",
              "      <th>2</th>\n",
              "      <th>3</th>\n",
              "      <th>4</th>\n",
              "      <th>5</th>\n",
              "      <th>6</th>\n",
              "      <th>7</th>\n",
              "      <th>8</th>\n",
              "      <th>9</th>\n",
              "      <th>10</th>\n",
              "      <th>11</th>\n",
              "      <th>12</th>\n",
              "      <th>13</th>\n",
              "      <th>14</th>\n",
              "      <th>15</th>\n",
              "      <th>16</th>\n",
              "      <th>17</th>\n",
              "      <th>18</th>\n",
              "      <th>19</th>\n",
              "      <th>20</th>\n",
              "    </tr>\n",
              "  </thead>\n",
              "  <tbody>\n",
              "    <tr>\n",
              "      <th>Среднее</th>\n",
              "      <td>52241.600</td>\n",
              "      <td>55154.700</td>\n",
              "      <td>53762.200</td>\n",
              "      <td>55237.000</td>\n",
              "      <td>53622.400</td>\n",
              "      <td>49127.20</td>\n",
              "      <td>50114.500</td>\n",
              "      <td>50513.800</td>\n",
              "      <td>52058.000</td>\n",
              "      <td>50352.500</td>\n",
              "      <td>54878.600</td>\n",
              "      <td>53924.000</td>\n",
              "      <td>51139.60</td>\n",
              "      <td>53146.30</td>\n",
              "      <td>52132.400</td>\n",
              "      <td>54279.60</td>\n",
              "      <td>49485.700</td>\n",
              "      <td>50991.800</td>\n",
              "      <td>53010.100</td>\n",
              "      <td>55542.700</td>\n",
              "    </tr>\n",
              "    <tr>\n",
              "      <th>Отклонение</th>\n",
              "      <td>28834.100</td>\n",
              "      <td>31513.800</td>\n",
              "      <td>29838.900</td>\n",
              "      <td>30857.300</td>\n",
              "      <td>29396.600</td>\n",
              "      <td>29966.30</td>\n",
              "      <td>29527.100</td>\n",
              "      <td>30490.000</td>\n",
              "      <td>31292.900</td>\n",
              "      <td>29357.200</td>\n",
              "      <td>27866.000</td>\n",
              "      <td>31490.700</td>\n",
              "      <td>28106.10</td>\n",
              "      <td>30815.10</td>\n",
              "      <td>29280.400</td>\n",
              "      <td>29844.60</td>\n",
              "      <td>28150.600</td>\n",
              "      <td>30126.900</td>\n",
              "      <td>30477.500</td>\n",
              "      <td>29600.800</td>\n",
              "    </tr>\n",
              "    <tr>\n",
              "      <th>Коэф. вариации</th>\n",
              "      <td>0.552</td>\n",
              "      <td>0.571</td>\n",
              "      <td>0.555</td>\n",
              "      <td>0.559</td>\n",
              "      <td>0.548</td>\n",
              "      <td>0.61</td>\n",
              "      <td>0.589</td>\n",
              "      <td>0.604</td>\n",
              "      <td>0.601</td>\n",
              "      <td>0.583</td>\n",
              "      <td>0.508</td>\n",
              "      <td>0.584</td>\n",
              "      <td>0.55</td>\n",
              "      <td>0.58</td>\n",
              "      <td>0.562</td>\n",
              "      <td>0.55</td>\n",
              "      <td>0.569</td>\n",
              "      <td>0.591</td>\n",
              "      <td>0.575</td>\n",
              "      <td>0.533</td>\n",
              "    </tr>\n",
              "  </tbody>\n",
              "</table>\n",
              "</div>\n",
              "    <div class=\"colab-df-buttons\">\n",
              "\n",
              "  <div class=\"colab-df-container\">\n",
              "    <button class=\"colab-df-convert\" onclick=\"convertToInteractive('df-7256f822-a40a-45b2-999b-6092a465dda4')\"\n",
              "            title=\"Convert this dataframe to an interactive table.\"\n",
              "            style=\"display:none;\">\n",
              "\n",
              "  <svg xmlns=\"http://www.w3.org/2000/svg\" height=\"24px\" viewBox=\"0 -960 960 960\">\n",
              "    <path d=\"M120-120v-720h720v720H120Zm60-500h600v-160H180v160Zm220 220h160v-160H400v160Zm0 220h160v-160H400v160ZM180-400h160v-160H180v160Zm440 0h160v-160H620v160ZM180-180h160v-160H180v160Zm440 0h160v-160H620v160Z\"/>\n",
              "  </svg>\n",
              "    </button>\n",
              "\n",
              "  <style>\n",
              "    .colab-df-container {\n",
              "      display:flex;\n",
              "      gap: 12px;\n",
              "    }\n",
              "\n",
              "    .colab-df-convert {\n",
              "      background-color: #E8F0FE;\n",
              "      border: none;\n",
              "      border-radius: 50%;\n",
              "      cursor: pointer;\n",
              "      display: none;\n",
              "      fill: #1967D2;\n",
              "      height: 32px;\n",
              "      padding: 0 0 0 0;\n",
              "      width: 32px;\n",
              "    }\n",
              "\n",
              "    .colab-df-convert:hover {\n",
              "      background-color: #E2EBFA;\n",
              "      box-shadow: 0px 1px 2px rgba(60, 64, 67, 0.3), 0px 1px 3px 1px rgba(60, 64, 67, 0.15);\n",
              "      fill: #174EA6;\n",
              "    }\n",
              "\n",
              "    .colab-df-buttons div {\n",
              "      margin-bottom: 4px;\n",
              "    }\n",
              "\n",
              "    [theme=dark] .colab-df-convert {\n",
              "      background-color: #3B4455;\n",
              "      fill: #D2E3FC;\n",
              "    }\n",
              "\n",
              "    [theme=dark] .colab-df-convert:hover {\n",
              "      background-color: #434B5C;\n",
              "      box-shadow: 0px 1px 3px 1px rgba(0, 0, 0, 0.15);\n",
              "      filter: drop-shadow(0px 1px 2px rgba(0, 0, 0, 0.3));\n",
              "      fill: #FFFFFF;\n",
              "    }\n",
              "  </style>\n",
              "\n",
              "    <script>\n",
              "      const buttonEl =\n",
              "        document.querySelector('#df-7256f822-a40a-45b2-999b-6092a465dda4 button.colab-df-convert');\n",
              "      buttonEl.style.display =\n",
              "        google.colab.kernel.accessAllowed ? 'block' : 'none';\n",
              "\n",
              "      async function convertToInteractive(key) {\n",
              "        const element = document.querySelector('#df-7256f822-a40a-45b2-999b-6092a465dda4');\n",
              "        const dataTable =\n",
              "          await google.colab.kernel.invokeFunction('convertToInteractive',\n",
              "                                                    [key], {});\n",
              "        if (!dataTable) return;\n",
              "\n",
              "        const docLinkHtml = 'Like what you see? Visit the ' +\n",
              "          '<a target=\"_blank\" href=https://colab.research.google.com/notebooks/data_table.ipynb>data table notebook</a>'\n",
              "          + ' to learn more about interactive tables.';\n",
              "        element.innerHTML = '';\n",
              "        dataTable['output_type'] = 'display_data';\n",
              "        await google.colab.output.renderOutput(dataTable, element);\n",
              "        const docLink = document.createElement('div');\n",
              "        docLink.innerHTML = docLinkHtml;\n",
              "        element.appendChild(docLink);\n",
              "      }\n",
              "    </script>\n",
              "  </div>\n",
              "\n",
              "\n",
              "<div id=\"df-3284d682-cd9c-4be7-9daa-d6daf6f9838a\">\n",
              "  <button class=\"colab-df-quickchart\" onclick=\"quickchart('df-3284d682-cd9c-4be7-9daa-d6daf6f9838a')\"\n",
              "            title=\"Suggest charts\"\n",
              "            style=\"display:none;\">\n",
              "\n",
              "<svg xmlns=\"http://www.w3.org/2000/svg\" height=\"24px\"viewBox=\"0 0 24 24\"\n",
              "     width=\"24px\">\n",
              "    <g>\n",
              "        <path d=\"M19 3H5c-1.1 0-2 .9-2 2v14c0 1.1.9 2 2 2h14c1.1 0 2-.9 2-2V5c0-1.1-.9-2-2-2zM9 17H7v-7h2v7zm4 0h-2V7h2v10zm4 0h-2v-4h2v4z\"/>\n",
              "    </g>\n",
              "</svg>\n",
              "  </button>\n",
              "\n",
              "<style>\n",
              "  .colab-df-quickchart {\n",
              "      --bg-color: #E8F0FE;\n",
              "      --fill-color: #1967D2;\n",
              "      --hover-bg-color: #E2EBFA;\n",
              "      --hover-fill-color: #174EA6;\n",
              "      --disabled-fill-color: #AAA;\n",
              "      --disabled-bg-color: #DDD;\n",
              "  }\n",
              "\n",
              "  [theme=dark] .colab-df-quickchart {\n",
              "      --bg-color: #3B4455;\n",
              "      --fill-color: #D2E3FC;\n",
              "      --hover-bg-color: #434B5C;\n",
              "      --hover-fill-color: #FFFFFF;\n",
              "      --disabled-bg-color: #3B4455;\n",
              "      --disabled-fill-color: #666;\n",
              "  }\n",
              "\n",
              "  .colab-df-quickchart {\n",
              "    background-color: var(--bg-color);\n",
              "    border: none;\n",
              "    border-radius: 50%;\n",
              "    cursor: pointer;\n",
              "    display: none;\n",
              "    fill: var(--fill-color);\n",
              "    height: 32px;\n",
              "    padding: 0;\n",
              "    width: 32px;\n",
              "  }\n",
              "\n",
              "  .colab-df-quickchart:hover {\n",
              "    background-color: var(--hover-bg-color);\n",
              "    box-shadow: 0 1px 2px rgba(60, 64, 67, 0.3), 0 1px 3px 1px rgba(60, 64, 67, 0.15);\n",
              "    fill: var(--button-hover-fill-color);\n",
              "  }\n",
              "\n",
              "  .colab-df-quickchart-complete:disabled,\n",
              "  .colab-df-quickchart-complete:disabled:hover {\n",
              "    background-color: var(--disabled-bg-color);\n",
              "    fill: var(--disabled-fill-color);\n",
              "    box-shadow: none;\n",
              "  }\n",
              "\n",
              "  .colab-df-spinner {\n",
              "    border: 2px solid var(--fill-color);\n",
              "    border-color: transparent;\n",
              "    border-bottom-color: var(--fill-color);\n",
              "    animation:\n",
              "      spin 1s steps(1) infinite;\n",
              "  }\n",
              "\n",
              "  @keyframes spin {\n",
              "    0% {\n",
              "      border-color: transparent;\n",
              "      border-bottom-color: var(--fill-color);\n",
              "      border-left-color: var(--fill-color);\n",
              "    }\n",
              "    20% {\n",
              "      border-color: transparent;\n",
              "      border-left-color: var(--fill-color);\n",
              "      border-top-color: var(--fill-color);\n",
              "    }\n",
              "    30% {\n",
              "      border-color: transparent;\n",
              "      border-left-color: var(--fill-color);\n",
              "      border-top-color: var(--fill-color);\n",
              "      border-right-color: var(--fill-color);\n",
              "    }\n",
              "    40% {\n",
              "      border-color: transparent;\n",
              "      border-right-color: var(--fill-color);\n",
              "      border-top-color: var(--fill-color);\n",
              "    }\n",
              "    60% {\n",
              "      border-color: transparent;\n",
              "      border-right-color: var(--fill-color);\n",
              "    }\n",
              "    80% {\n",
              "      border-color: transparent;\n",
              "      border-right-color: var(--fill-color);\n",
              "      border-bottom-color: var(--fill-color);\n",
              "    }\n",
              "    90% {\n",
              "      border-color: transparent;\n",
              "      border-bottom-color: var(--fill-color);\n",
              "    }\n",
              "  }\n",
              "</style>\n",
              "\n",
              "  <script>\n",
              "    async function quickchart(key) {\n",
              "      const quickchartButtonEl =\n",
              "        document.querySelector('#' + key + ' button');\n",
              "      quickchartButtonEl.disabled = true;  // To prevent multiple clicks.\n",
              "      quickchartButtonEl.classList.add('colab-df-spinner');\n",
              "      try {\n",
              "        const charts = await google.colab.kernel.invokeFunction(\n",
              "            'suggestCharts', [key], {});\n",
              "      } catch (error) {\n",
              "        console.error('Error during call to suggestCharts:', error);\n",
              "      }\n",
              "      quickchartButtonEl.classList.remove('colab-df-spinner');\n",
              "      quickchartButtonEl.classList.add('colab-df-quickchart-complete');\n",
              "    }\n",
              "    (() => {\n",
              "      let quickchartButtonEl =\n",
              "        document.querySelector('#df-3284d682-cd9c-4be7-9daa-d6daf6f9838a button');\n",
              "      quickchartButtonEl.style.display =\n",
              "        google.colab.kernel.accessAllowed ? 'block' : 'none';\n",
              "    })();\n",
              "  </script>\n",
              "</div>\n",
              "    </div>\n",
              "  </div>\n"
            ],
            "application/vnd.google.colaboratory.intrinsic+json": {
              "type": "dataframe",
              "variable_name": "df_icg",
              "summary": "{\n  \"name\": \"df_icg\",\n  \"rows\": 3,\n  \"fields\": [\n    {\n      \"column\": \"1\",\n      \"properties\": {\n        \"dtype\": \"number\",\n        \"std\": 26167.446833348135,\n        \"min\": 0.552,\n        \"max\": 52241.6,\n        \"num_unique_values\": 3,\n        \"samples\": [\n          52241.6,\n          28834.1,\n          0.552\n        ],\n        \"semantic_type\": \"\",\n        \"description\": \"\"\n      }\n    },\n    {\n      \"column\": \"2\",\n      \"properties\": {\n        \"dtype\": \"number\",\n        \"std\": 27670.543003240473,\n        \"min\": 0.571,\n        \"max\": 55154.7,\n        \"num_unique_values\": 3,\n        \"samples\": [\n          55154.7,\n          31513.8,\n          0.571\n        ],\n        \"semantic_type\": \"\",\n        \"description\": \"\"\n      }\n    },\n    {\n      \"column\": \"3\",\n      \"properties\": {\n        \"dtype\": \"number\",\n        \"std\": 26935.000737377162,\n        \"min\": 0.555,\n        \"max\": 53762.2,\n        \"num_unique_values\": 3,\n        \"samples\": [\n          53762.2,\n          29838.9,\n          0.555\n        ],\n        \"semantic_type\": \"\",\n        \"description\": \"\"\n      }\n    },\n    {\n      \"column\": \"4\",\n      \"properties\": {\n        \"dtype\": \"number\",\n        \"std\": 27681.439785463837,\n        \"min\": 0.559,\n        \"max\": 55237.0,\n        \"num_unique_values\": 3,\n        \"samples\": [\n          55237.0,\n          30857.3,\n          0.559\n        ],\n        \"semantic_type\": \"\",\n        \"description\": \"\"\n      }\n    },\n    {\n      \"column\": \"5\",\n      \"properties\": {\n        \"dtype\": \"number\",\n        \"std\": 26852.437104592602,\n        \"min\": 0.548,\n        \"max\": 53622.4,\n        \"num_unique_values\": 3,\n        \"samples\": [\n          53622.4,\n          29396.6,\n          0.548\n        ],\n        \"semantic_type\": \"\",\n        \"description\": \"\"\n      }\n    },\n    {\n      \"column\": \"6\",\n      \"properties\": {\n        \"dtype\": \"number\",\n        \"std\": 24760.534832047415,\n        \"min\": 0.61,\n        \"max\": 49127.2,\n        \"num_unique_values\": 3,\n        \"samples\": [\n          49127.2,\n          29966.3,\n          0.61\n        ],\n        \"semantic_type\": \"\",\n        \"description\": \"\"\n      }\n    },\n    {\n      \"column\": \"7\",\n      \"properties\": {\n        \"dtype\": \"number\",\n        \"std\": 25189.481820490873,\n        \"min\": 0.589,\n        \"max\": 50114.5,\n        \"num_unique_values\": 3,\n        \"samples\": [\n          50114.5,\n          29527.1,\n          0.589\n        ],\n        \"semantic_type\": \"\",\n        \"description\": \"\"\n      }\n    },\n    {\n      \"column\": \"8\",\n      \"properties\": {\n        \"dtype\": \"number\",\n        \"std\": 25436.649428921886,\n        \"min\": 0.604,\n        \"max\": 50513.8,\n        \"num_unique_values\": 3,\n        \"samples\": [\n          50513.8,\n          30490.0,\n          0.604\n        ],\n        \"semantic_type\": \"\",\n        \"description\": \"\"\n      }\n    },\n    {\n      \"column\": \"9\",\n      \"properties\": {\n        \"dtype\": \"number\",\n        \"std\": 26205.502429072036,\n        \"min\": 0.601,\n        \"max\": 52058.0,\n        \"num_unique_values\": 3,\n        \"samples\": [\n          52058.0,\n          31292.9,\n          0.601\n        ],\n        \"semantic_type\": \"\",\n        \"description\": \"\"\n      }\n    },\n    {\n      \"column\": \"10\",\n      \"properties\": {\n        \"dtype\": \"number\",\n        \"std\": 25291.39883224327,\n        \"min\": 0.583,\n        \"max\": 50352.5,\n        \"num_unique_values\": 3,\n        \"samples\": [\n          50352.5,\n          29357.2,\n          0.583\n        ],\n        \"semantic_type\": \"\",\n        \"description\": \"\"\n      }\n    },\n    {\n      \"column\": \"11\",\n      \"properties\": {\n        \"dtype\": \"number\",\n        \"std\": 27440.150584871455,\n        \"min\": 0.508,\n        \"max\": 54878.6,\n        \"num_unique_values\": 3,\n        \"samples\": [\n          54878.6,\n          27866.0,\n          0.508\n        ],\n        \"semantic_type\": \"\",\n        \"description\": \"\"\n      }\n    },\n    {\n      \"column\": \"12\",\n      \"properties\": {\n        \"dtype\": \"number\",\n        \"std\": 27088.17438075304,\n        \"min\": 0.584,\n        \"max\": 53924.0,\n        \"num_unique_values\": 3,\n        \"samples\": [\n          53924.0,\n          31490.7,\n          0.584\n        ],\n        \"semantic_type\": \"\",\n        \"description\": \"\"\n      }\n    },\n    {\n      \"column\": \"13\",\n      \"properties\": {\n        \"dtype\": \"number\",\n        \"std\": 25611.41183780842,\n        \"min\": 0.55,\n        \"max\": 51139.6,\n        \"num_unique_values\": 3,\n        \"samples\": [\n          51139.6,\n          28106.1,\n          0.55\n        ],\n        \"semantic_type\": \"\",\n        \"description\": \"\"\n      }\n    },\n    {\n      \"column\": \"14\",\n      \"properties\": {\n        \"dtype\": \"number\",\n        \"std\": 26685.466364636264,\n        \"min\": 0.58,\n        \"max\": 53146.3,\n        \"num_unique_values\": 3,\n        \"samples\": [\n          53146.3,\n          30815.1,\n          0.58\n        ],\n        \"semantic_type\": \"\",\n        \"description\": \"\"\n      }\n    },\n    {\n      \"column\": \"15\",\n      \"properties\": {\n        \"dtype\": \"number\",\n        \"std\": 26131.881392163123,\n        \"min\": 0.562,\n        \"max\": 52132.4,\n        \"num_unique_values\": 3,\n        \"samples\": [\n          52132.4,\n          29280.4,\n          0.562\n        ],\n        \"semantic_type\": \"\",\n        \"description\": \"\"\n      }\n    },\n    {\n      \"column\": \"16\",\n      \"properties\": {\n        \"dtype\": \"number\",\n        \"std\": 27184.406726114757,\n        \"min\": 0.55,\n        \"max\": 54279.6,\n        \"num_unique_values\": 3,\n        \"samples\": [\n          54279.6,\n          29844.6,\n          0.55\n        ],\n        \"semantic_type\": \"\",\n        \"description\": \"\"\n      }\n    },\n    {\n      \"column\": \"17\",\n      \"properties\": {\n        \"dtype\": \"number\",\n        \"std\": 24820.653118582926,\n        \"min\": 0.569,\n        \"max\": 49485.7,\n        \"num_unique_values\": 3,\n        \"samples\": [\n          49485.7,\n          28150.6,\n          0.569\n        ],\n        \"semantic_type\": \"\",\n        \"description\": \"\"\n      }\n    },\n    {\n      \"column\": \"18\",\n      \"properties\": {\n        \"dtype\": \"number\",\n        \"std\": 25635.398512132797,\n        \"min\": 0.591,\n        \"max\": 50991.8,\n        \"num_unique_values\": 3,\n        \"samples\": [\n          50991.8,\n          30126.9,\n          0.591\n        ],\n        \"semantic_type\": \"\",\n        \"description\": \"\"\n      }\n    },\n    {\n      \"column\": \"19\",\n      \"properties\": {\n        \"dtype\": \"number\",\n        \"std\": 26603.79284031148,\n        \"min\": 0.575,\n        \"max\": 53010.1,\n        \"num_unique_values\": 3,\n        \"samples\": [\n          53010.1,\n          30477.5,\n          0.575\n        ],\n        \"semantic_type\": \"\",\n        \"description\": \"\"\n      }\n    },\n    {\n      \"column\": \"20\",\n      \"properties\": {\n        \"dtype\": \"number\",\n        \"std\": 27791.15655844852,\n        \"min\": 0.533,\n        \"max\": 55542.7,\n        \"num_unique_values\": 3,\n        \"samples\": [\n          55542.7,\n          29600.8,\n          0.533\n        ],\n        \"semantic_type\": \"\",\n        \"description\": \"\"\n      }\n    }\n  ]\n}"
            }
          },
          "metadata": {},
          "execution_count": 10
        }
      ]
    },
    {
      "cell_type": "markdown",
      "source": [
        "## Хи-квадрат"
      ],
      "metadata": {
        "id": "Tgf45guzZXSn"
      }
    },
    {
      "cell_type": "code",
      "source": [
        "N = size\n",
        "k = round(1 + np.log2(N))\n",
        "p = 1 / k\n",
        "print(k)"
      ],
      "metadata": {
        "colab": {
          "base_uri": "https://localhost:8080/"
        },
        "id": "q1tPrFvxZjv6",
        "outputId": "05f2c1eb-528f-45f7-8be1-bf821afe5522"
      },
      "execution_count": null,
      "outputs": [
        {
          "output_type": "stream",
          "name": "stdout",
          "text": [
            "8\n"
          ]
        }
      ]
    },
    {
      "cell_type": "code",
      "source": [
        "chi_probs = [0.01, 0.05, 0.25, 0.5, 0.75, 0.95, 0.99]\n",
        "chi_sq_th = np.array([1.239, 2.167, 4.255, 6.346, 9.037, 14.07, 18.48])"
      ],
      "metadata": {
        "id": "TmizOZIRUkYp"
      },
      "execution_count": null,
      "outputs": []
    },
    {
      "cell_type": "code",
      "source": [
        "borders = [m1 // k * i for i in range(1, k)]\n",
        "for sample in sample_pcg:\n",
        "    freq_vect = np.array([np.sum(sample <= borders[0])] + [sum([borders[i] < elem <= borders[i + 1] for elem in sample]) for i in range(k - 2)] + [np.sum(sample > borders[-1])])\n",
        "    chi_sq_exp = 1 / N * np.sum(freq_vect ** 2 / p) - N\n",
        "    if (chi_sq_exp > chi_sq_th[-1]) or (chi_sq_exp < chi_sq_th[0]):\n",
        "        print('Гипотеза о случайности равномерного генератора не выполняется')\n",
        "    else:\n",
        "        print(f'Гипотеза о случайности равномерного генератора выполняется с вероятностью: {chi_probs[np.argmin(np.abs(chi_sq_th - chi_sq_exp))]}')"
      ],
      "metadata": {
        "colab": {
          "base_uri": "https://localhost:8080/"
        },
        "id": "yr5drkTGoQ8F",
        "outputId": "235e74de-354e-4f73-d17a-e6ecd3f1141a"
      },
      "execution_count": null,
      "outputs": [
        {
          "output_type": "stream",
          "name": "stdout",
          "text": [
            "Гипотеза о случайности равномерного генератора выполняется с вероятностью: 0.5\n",
            "Гипотеза о случайности равномерного генератора выполняется с вероятностью: 0.25\n",
            "Гипотеза о случайности равномерного генератора выполняется с вероятностью: 0.5\n",
            "Гипотеза о случайности равномерного генератора выполняется с вероятностью: 0.75\n",
            "Гипотеза о случайности равномерного генератора выполняется с вероятностью: 0.75\n",
            "Гипотеза о случайности равномерного генератора выполняется с вероятностью: 0.75\n",
            "Гипотеза о случайности равномерного генератора выполняется с вероятностью: 0.5\n",
            "Гипотеза о случайности равномерного генератора выполняется с вероятностью: 0.75\n",
            "Гипотеза о случайности равномерного генератора выполняется с вероятностью: 0.5\n",
            "Гипотеза о случайности равномерного генератора выполняется с вероятностью: 0.05\n",
            "Гипотеза о случайности равномерного генератора выполняется с вероятностью: 0.95\n",
            "Гипотеза о случайности равномерного генератора выполняется с вероятностью: 0.25\n",
            "Гипотеза о случайности равномерного генератора выполняется с вероятностью: 0.5\n",
            "Гипотеза о случайности равномерного генератора выполняется с вероятностью: 0.75\n",
            "Гипотеза о случайности равномерного генератора выполняется с вероятностью: 0.25\n",
            "Гипотеза о случайности равномерного генератора выполняется с вероятностью: 0.75\n",
            "Гипотеза о случайности равномерного генератора выполняется с вероятностью: 0.5\n",
            "Гипотеза о случайности равномерного генератора выполняется с вероятностью: 0.75\n",
            "Гипотеза о случайности равномерного генератора выполняется с вероятностью: 0.5\n",
            "Гипотеза о случайности равномерного генератора выполняется с вероятностью: 0.5\n"
          ]
        }
      ]
    },
    {
      "cell_type": "code",
      "source": [
        "borders = [m2 // k * i for i in range(1, k)]\n",
        "for sample in sample_icg:\n",
        "    freq_vect = np.array([np.sum(sample <= borders[0])] + [sum([borders[i] < elem <= borders[i + 1] for elem in sample]) for i in range(k - 2)] + [np.sum(sample > borders[-1])])\n",
        "    chi_sq_exp = 1 / N * np.sum(freq_vect ** 2 / p) - N\n",
        "    if (chi_sq_exp > chi_sq_th[-1]) or (chi_sq_exp < chi_sq_th[0]):\n",
        "        print('Гипотеза о случайности равномерного генератора не выполняется')\n",
        "    else:\n",
        "        print(f'Гипотеза о случайности равномерного генератора выполняется с вероятностью: {chi_probs[np.argmin(np.abs(chi_sq_th - chi_sq_exp))]}')"
      ],
      "metadata": {
        "colab": {
          "base_uri": "https://localhost:8080/"
        },
        "id": "GjSOIiWOXIpD",
        "outputId": "c6d54a99-de53-4c00-81f3-e56fb404b375"
      },
      "execution_count": null,
      "outputs": [
        {
          "output_type": "stream",
          "name": "stdout",
          "text": [
            "Гипотеза о случайности равномерного генератора выполняется с вероятностью: 0.25\n",
            "Гипотеза о случайности равномерного генератора выполняется с вероятностью: 0.25\n",
            "Гипотеза о случайности равномерного генератора выполняется с вероятностью: 0.5\n",
            "Гипотеза о случайности равномерного генератора выполняется с вероятностью: 0.05\n",
            "Гипотеза о случайности равномерного генератора выполняется с вероятностью: 0.25\n",
            "Гипотеза о случайности равномерного генератора выполняется с вероятностью: 0.95\n",
            "Гипотеза о случайности равномерного генератора выполняется с вероятностью: 0.05\n",
            "Гипотеза о случайности равномерного генератора выполняется с вероятностью: 0.05\n",
            "Гипотеза о случайности равномерного генератора не выполняется\n",
            "Гипотеза о случайности равномерного генератора выполняется с вероятностью: 0.25\n",
            "Гипотеза о случайности равномерного генератора выполняется с вероятностью: 0.5\n",
            "Гипотеза о случайности равномерного генератора выполняется с вероятностью: 0.25\n",
            "Гипотеза о случайности равномерного генератора выполняется с вероятностью: 0.25\n",
            "Гипотеза о случайности равномерного генератора выполняется с вероятностью: 0.05\n",
            "Гипотеза о случайности равномерного генератора выполняется с вероятностью: 0.05\n",
            "Гипотеза о случайности равномерного генератора выполняется с вероятностью: 0.05\n",
            "Гипотеза о случайности равномерного генератора выполняется с вероятностью: 0.95\n",
            "Гипотеза о случайности равномерного генератора выполняется с вероятностью: 0.05\n",
            "Гипотеза о случайности равномерного генератора выполняется с вероятностью: 0.05\n",
            "Гипотеза о случайности равномерного генератора выполняется с вероятностью: 0.5\n"
          ]
        }
      ]
    },
    {
      "cell_type": "markdown",
      "source": [
        "## Тесты"
      ],
      "metadata": {
        "id": "Gj4Lz20PbOc5"
      }
    },
    {
      "cell_type": "code",
      "source": [
        "size = 66666"
      ],
      "metadata": {
        "id": "YfJ0qYQy_Vkt"
      },
      "execution_count": null,
      "outputs": []
    },
    {
      "cell_type": "code",
      "source": [
        "test_sample_pcg = []\n",
        "for i in range(size):\n",
        "    seed = pcg(111923, arr, seed)\n",
        "    test_sample_pcg.append(seed % 2)"
      ],
      "metadata": {
        "id": "7AFbI6Cm-XXh"
      },
      "execution_count": null,
      "outputs": []
    },
    {
      "cell_type": "code",
      "source": [
        "test_sample_icg = []\n",
        "for i in range(size):\n",
        "    seed = icg(m2, a, c, seed)\n",
        "    test_sample_icg.append(seed % 2)"
      ],
      "metadata": {
        "id": "0YQedINp_Sd0"
      },
      "execution_count": null,
      "outputs": []
    },
    {
      "cell_type": "markdown",
      "source": [
        "### NIST: частотный побитовый тест"
      ],
      "metadata": {
        "id": "mKZcTOe1KEaC"
      }
    },
    {
      "cell_type": "code",
      "source": [
        "import math\n",
        "\n",
        "def frequency(sample, n):\n",
        "    ones = sum(sample)\n",
        "    zeroes = n - ones\n",
        "    s_n = ones - zeroes\n",
        "    s_obs = abs(s_n) / math.sqrt(n)\n",
        "    p_value = math.erfc(s_obs / math.sqrt(2))\n",
        "    success = (p_value >= 0.01)\n",
        "    return (success, p_value, ones, zeroes)"
      ],
      "metadata": {
        "id": "JcmZWLA0Ilgl"
      },
      "execution_count": null,
      "outputs": []
    },
    {
      "cell_type": "code",
      "source": [
        "frequency(test_sample_pcg, size)"
      ],
      "metadata": {
        "colab": {
          "base_uri": "https://localhost:8080/"
        },
        "id": "JVEJfuabH5W_",
        "outputId": "1369c7e5-a8b6-4a51-c179-6380d0710428"
      },
      "execution_count": null,
      "outputs": [
        {
          "output_type": "execute_result",
          "data": {
            "text/plain": [
              "(True, 0.9938196436697042, 33334, 33332)"
            ]
          },
          "metadata": {},
          "execution_count": 19
        }
      ]
    },
    {
      "cell_type": "code",
      "source": [
        "frequency(test_sample_icg, size)"
      ],
      "metadata": {
        "colab": {
          "base_uri": "https://localhost:8080/"
        },
        "id": "XCzrpbitBTUX",
        "outputId": "63516283-e48b-459d-a60c-c3e28b4ed1b1"
      },
      "execution_count": null,
      "outputs": [
        {
          "output_type": "execute_result",
          "data": {
            "text/plain": [
              "(True, 0.06302128437657373, 33093, 33573)"
            ]
          },
          "metadata": {},
          "execution_count": 20
        }
      ]
    },
    {
      "cell_type": "markdown",
      "source": [
        "### NIST: частотный блочный тест"
      ],
      "metadata": {
        "id": "IojveJr2KIDQ"
      }
    },
    {
      "cell_type": "code",
      "source": [
        "import scipy.special as ss\n",
        "\n",
        "def block_frequency(sample, M, n): # M - размер блока\n",
        "    N = n // M\n",
        "    pi = np.array([sum(sample[i * M  : (i + 1) * M]) / M for i in range(N)]) # вычисляем доли единиц в каждом блоке\n",
        "    chi_sq = 4 * M * np.sum((pi - 0.5) ** 2)\n",
        "    p_value = ss.gammaincc(N / 2, chi_sq / 2)\n",
        "    success = (p_value >= 0.01)\n",
        "    return (success, p_value)"
      ],
      "metadata": {
        "id": "Ai0NEzisMvHl"
      },
      "execution_count": null,
      "outputs": []
    },
    {
      "cell_type": "code",
      "source": [
        "block_frequency(test_sample_pcg, 32, size)"
      ],
      "metadata": {
        "colab": {
          "base_uri": "https://localhost:8080/"
        },
        "id": "tUanOO7dL_jk",
        "outputId": "c5f6b6c8-8384-44bd-faf2-59b7e1c1e013"
      },
      "execution_count": null,
      "outputs": [
        {
          "output_type": "execute_result",
          "data": {
            "text/plain": [
              "(True, 1.0)"
            ]
          },
          "metadata": {},
          "execution_count": 22
        }
      ]
    },
    {
      "cell_type": "code",
      "source": [
        "block_frequency(test_sample_icg, 32, size)"
      ],
      "metadata": {
        "colab": {
          "base_uri": "https://localhost:8080/"
        },
        "id": "asN6eb6iPaNN",
        "outputId": "eb0753e5-49f5-4ab0-b22e-4b74820c7b99"
      },
      "execution_count": null,
      "outputs": [
        {
          "output_type": "execute_result",
          "data": {
            "text/plain": [
              "(True, 0.6739468812332329)"
            ]
          },
          "metadata": {},
          "execution_count": 23
        }
      ]
    },
    {
      "cell_type": "markdown",
      "source": [
        "### NIST: тест на последовательность одинаковых битов"
      ],
      "metadata": {
        "id": "eA4QhABvPib1"
      }
    },
    {
      "cell_type": "code",
      "source": [
        "def runs(sample, n):\n",
        "    pi = sum(sample) / n\n",
        "    tau = 2 / math.sqrt(n)\n",
        "    if abs(pi - 0.5) >= tau:\n",
        "        return (False, 0)\n",
        "\n",
        "    V_n = sum([sample[i] != sample[i + 1] for i in range(n - 1)]) + 1\n",
        "    p_value = math.erfc(abs(V_n - 2 * pi * n * (1 - pi)) / (2 * math.sqrt(2 * n) * pi * (1 - pi)))\n",
        "    success = (p_value >= 0.01)\n",
        "    return (success, p_value)"
      ],
      "metadata": {
        "id": "cxr0rjVdRIAp"
      },
      "execution_count": null,
      "outputs": []
    },
    {
      "cell_type": "code",
      "source": [
        "runs(test_sample_pcg, size)"
      ],
      "metadata": {
        "colab": {
          "base_uri": "https://localhost:8080/"
        },
        "id": "5KjC3Y9GTYZv",
        "outputId": "788119c2-80af-4375-f977-8526f6dbee5a"
      },
      "execution_count": null,
      "outputs": [
        {
          "output_type": "execute_result",
          "data": {
            "text/plain": [
              "(False, 0.0)"
            ]
          },
          "metadata": {},
          "execution_count": 25
        }
      ]
    },
    {
      "cell_type": "code",
      "source": [
        "runs(test_sample_icg, size)"
      ],
      "metadata": {
        "colab": {
          "base_uri": "https://localhost:8080/"
        },
        "id": "cWbvBMNpTZmQ",
        "outputId": "315672cf-6fb9-4d49-b22c-d9487b7cd27e"
      },
      "execution_count": null,
      "outputs": [
        {
          "output_type": "execute_result",
          "data": {
            "text/plain": [
              "(False, 6.057787835926238e-15)"
            ]
          },
          "metadata": {},
          "execution_count": 26
        }
      ]
    },
    {
      "cell_type": "markdown",
      "source": [
        "Два теста из трёх прошли. Это согласуется и с четвертым пунктом, где для подавляющего большинства выборок выполняется гипотеза о равномерности генератора с различными вероятностями. Мы можем быть довольными результатами, т.к. используемые генераторы основаны на линейном конгруэнтном методе, который был изобретен в середине прошлого века."
      ],
      "metadata": {
        "id": "NE9xini_WIMy"
      }
    },
    {
      "cell_type": "markdown",
      "source": [
        "## Время генерации"
      ],
      "metadata": {
        "id": "TUBdscnWbduP"
      }
    },
    {
      "cell_type": "code",
      "source": [
        "import random\n",
        "import time\n",
        "import matplotlib.pyplot as plt"
      ],
      "metadata": {
        "id": "f77KiRAkYss9"
      },
      "execution_count": null,
      "outputs": []
    },
    {
      "cell_type": "code",
      "source": [
        "sizes = [1000, 5000, 10000, 50000, 100000, 200000, 500000, 700000, 1000000]\n",
        "pcg_time = []\n",
        "icg_time = []\n",
        "random_time = []\n",
        "\n",
        "for size in sizes:\n",
        "    start = time.perf_counter()\n",
        "    for _ in range(size):\n",
        "        seed = pcg(m1, arr, seed)\n",
        "    finish = time.perf_counter()\n",
        "    pcg_time.append(finish - start)\n",
        "\n",
        "    start = time.perf_counter()\n",
        "    for _ in range(size):\n",
        "        seed = icg(m2, a, c, seed)\n",
        "    finish = time.perf_counter()\n",
        "    icg_time.append(finish - start)\n",
        "\n",
        "    start = time.perf_counter()\n",
        "    for _ in range(size):\n",
        "        random.randint(0, m2 - 1)\n",
        "    finish = time.perf_counter()\n",
        "    random_time.append(finish - start)"
      ],
      "metadata": {
        "id": "R11tDramblal"
      },
      "execution_count": null,
      "outputs": []
    },
    {
      "cell_type": "code",
      "source": [
        "plt.plot(sizes, pcg_time, 'b', marker='o')\n",
        "plt.plot(sizes, icg_time, 'r', marker='X')\n",
        "plt.plot(sizes, random_time, 'g', marker='*')\n",
        "plt.grid(True)\n",
        "plt.legend(['PCG', 'ICG', 'random.randint'])\n",
        "plt.xlabel('Объём выборки')\n",
        "plt.ylabel('Время, секунды')\n",
        "plt.title('Сравнение скоростей генерации чисел')\n",
        "plt.show()"
      ],
      "metadata": {
        "colab": {
          "base_uri": "https://localhost:8080/",
          "height": 472
        },
        "id": "1AsNGytPc4kH",
        "outputId": "d1e4a3e6-9483-42a3-843f-05e519170bdd"
      },
      "execution_count": null,
      "outputs": [
        {
          "output_type": "display_data",
          "data": {
            "text/plain": [
              "<Figure size 640x480 with 1 Axes>"
            ],
            "image/png": "[encoded data removed]"
          },
          "metadata": {}
        }
      ]
    }
  ]
}
